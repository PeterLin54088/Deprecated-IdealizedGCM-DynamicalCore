{
 "cells": [
  {
   "cell_type": "markdown",
   "id": "48848070-2d40-4c71-8909-d029f358bb0f",
   "metadata": {
    "jp-MarkdownHeadingCollapsed": true,
    "tags": []
   },
   "source": [
    "## Pre"
   ]
  },
  {
   "cell_type": "code",
   "execution_count": 1,
   "id": "8c3fd193-acd5-47ee-a6eb-92d9ca51457b",
   "metadata": {},
   "outputs": [
    {
     "name": "stdout",
     "output_type": "stream",
     "text": [
      "Julia Version 1.9.3\n",
      "Commit bed2cd540a1 (2023-08-24 14:43 UTC)\n",
      "Build Info:\n",
      "  Official https://julialang.org/ release\n",
      "Platform Info:\n",
      "  OS: Linux (x86_64-linux-gnu)\n",
      "  CPU: 64 × AMD EPYC 9374F 32-Core Processor\n",
      "  WORD_SIZE: 64\n",
      "  LIBM: libopenlibm\n",
      "  LLVM: libLLVM-14.0.6 (ORCJIT, znver3)\n",
      "  Threads: 2 on 64 virtual cores\n"
     ]
    }
   ],
   "source": [
    "versioninfo()"
   ]
  },
  {
   "cell_type": "code",
   "execution_count": 2,
   "id": "a72d7b72-0fd3-401e-ba3a-5396aee94f95",
   "metadata": {},
   "outputs": [],
   "source": [
    "# main execution path\n",
    "cd()\n",
    "cd(\"dynamical_core\")"
   ]
  },
  {
   "cell_type": "code",
   "execution_count": 3,
   "id": "bcf6fbf9-b323-4604-a500-afc42a6c0a7c",
   "metadata": {},
   "outputs": [
    {
     "name": "stdout",
     "output_type": "stream",
     "text": [
      "\n"
     ]
    }
   ],
   "source": [
    "using dynamical_core\n",
    "include(\"src/shallow_water/Output_Manager.jl\")\n",
    "include(\"src/shallow_water/Shallow_Water_Physics.jl\")\n",
    "include(\"src/shallow_water/Shallow_Water_Dynamics.jl\")\n",
    "include(\"src/shallow_water/Initial_Condition_Controller.jl\")\n",
    "include(\"exp/shallow_water/__main.jl\")\n",
    "println()"
   ]
  },
  {
   "cell_type": "markdown",
   "id": "b181498b-df9c-4c39-b3a1-f3df2274ea32",
   "metadata": {
    "tags": []
   },
   "source": [
    "## Main"
   ]
  },
  {
   "cell_type": "code",
   "execution_count": 4,
   "id": "ac5b23d4-25bb-41b1-9704-bb3d086cb942",
   "metadata": {
    "tags": []
   },
   "outputs": [
    {
     "name": "stdout",
     "output_type": "stream",
     "text": [
      "/home/b08209033/dynamical_core\n"
     ]
    }
   ],
   "source": [
    "println(pwd())"
   ]
  },
  {
   "cell_type": "code",
   "execution_count": 5,
   "id": "7d03ffe4-8403-4e72-8198-0378bd12021a",
   "metadata": {
    "tags": []
   },
   "outputs": [
    {
     "name": "stdout",
     "output_type": "stream",
     "text": [
      "##########################################################################################\n",
      "Initial background      zonal wind: (-11.7852, 9.8881) (m/s)\n",
      "Initial background meridional wind: (0.0, 0.0) (m/s)\n",
      "Initial background   geopot height: (-54.4111, 15.3188) (m * m*s-2)\n",
      "Initial background       vorticity: (-6.763e-6, 3.2225e-5) (1/s)\n",
      "Initial background      divergence: (0.0, 0.0) (1/s)\n",
      "##########################################################################################\n",
      "##########################################################################################\n",
      "Initial perturbation      zonal wind: (-2.9171, 2.8341) (m/s)\n",
      "Initial perturbation meridional wind: (-2.4737, 2.4737) (m/s)\n",
      "Initial perturbation          height: (-0.3469, 0.0096) (m)\n",
      "Initial perturbation       vorticity: (-2.137e-6, 1.9881e-5) (1/s)\n",
      "Initial perturbation      divergence: (0.0, 0.0) (1/s)\n",
      "##########################################################################################\n"
     ]
    }
   ],
   "source": [
    "Shallow_Water_Main()"
   ]
  }
 ],
 "metadata": {
  "kernelspec": {
   "display_name": "Julia 1.9.3",
   "language": "julia",
   "name": "julia-1.9"
  },
  "language_info": {
   "file_extension": ".jl",
   "mimetype": "application/julia",
   "name": "julia",
   "version": "1.9.3"
  }
 },
 "nbformat": 4,
 "nbformat_minor": 5
}
