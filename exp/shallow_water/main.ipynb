{
 "cells": [
  {
   "cell_type": "markdown",
   "id": "48848070-2d40-4c71-8909-d029f358bb0f",
   "metadata": {
    "tags": []
   },
   "source": [
    "# Pre"
   ]
  },
  {
   "cell_type": "markdown",
   "id": "a4a2a71b-5284-4825-b378-6134f30f0b0e",
   "metadata": {
    "jp-MarkdownHeadingCollapsed": true,
    "tags": []
   },
   "source": [
    "## Info"
   ]
  },
  {
   "cell_type": "code",
   "execution_count": 1,
   "id": "8c3fd193-acd5-47ee-a6eb-92d9ca51457b",
   "metadata": {},
   "outputs": [
    {
     "name": "stdout",
     "output_type": "stream",
     "text": [
      "Julia Version 1.9.3\n",
      "Commit bed2cd540a1 (2023-08-24 14:43 UTC)\n",
      "Build Info:\n",
      "  Official https://julialang.org/ release\n",
      "Platform Info:\n",
      "  OS: Linux (x86_64-linux-gnu)\n",
      "  CPU: 64 × AMD EPYC 9374F 32-Core Processor\n",
      "  WORD_SIZE: 64\n",
      "  LIBM: libopenlibm\n",
      "  LLVM: libLLVM-14.0.6 (ORCJIT, znver3)\n",
      "  Threads: 2 on 64 virtual cores\n"
     ]
    }
   ],
   "source": [
    "versioninfo()"
   ]
  },
  {
   "cell_type": "markdown",
   "id": "aa9cca78-fddb-4af3-9730-b6292e83aae1",
   "metadata": {
    "tags": []
   },
   "source": [
    "## Switch to local project"
   ]
  },
  {
   "cell_type": "code",
   "execution_count": 2,
   "id": "a6e80da9-4db1-4e9c-8d6b-03d5332c4f28",
   "metadata": {
    "tags": []
   },
   "outputs": [
    {
     "name": "stderr",
     "output_type": "stream",
     "text": [
      "\u001b[32m\u001b[1m  Activating\u001b[22m\u001b[39m project at `~/Dynamical_Core_Julia`\n"
     ]
    }
   ],
   "source": [
    "import Pkg\n",
    "\n",
    "cd()\n",
    "Pkg.activate(\"Dynamical_Core_Julia\")\n",
    "cd(\"Dynamical_Core_Julia\")"
   ]
  },
  {
   "cell_type": "code",
   "execution_count": 3,
   "id": "09942742-6ad8-42e4-bc73-96352035fad8",
   "metadata": {
    "tags": []
   },
   "outputs": [],
   "source": [
    "import PyPlot\n",
    "import LinearAlgebra as LA"
   ]
  },
  {
   "cell_type": "markdown",
   "id": "fd13b83a-645c-4a9c-b6b0-add516bf4727",
   "metadata": {
    "tags": []
   },
   "source": [
    "## import local package"
   ]
  },
  {
   "cell_type": "code",
   "execution_count": 4,
   "id": "bcf6fbf9-b323-4604-a500-afc42a6c0a7c",
   "metadata": {},
   "outputs": [
    {
     "data": {
      "text/plain": [
       "filepath_constructor (generic function with 2 methods)"
      ]
     },
     "execution_count": 4,
     "metadata": {},
     "output_type": "execute_result"
    }
   ],
   "source": [
    "using dynamical_core\n",
    "\n",
    "# Test\n",
    "include(\"exp/shallow_water/__unit_test.jl\")\n",
    "# Main\n",
    "include(\"exp/shallow_water/__main.jl\")"
   ]
  },
  {
   "cell_type": "markdown",
   "id": "b181498b-df9c-4c39-b3a1-f3df2274ea32",
   "metadata": {
    "tags": []
   },
   "source": [
    "# Main"
   ]
  },
  {
   "cell_type": "markdown",
   "id": "719b4c50-afc8-4e26-b21a-d27195a8da0c",
   "metadata": {
    "tags": []
   },
   "source": [
    "## Unit Test"
   ]
  },
  {
   "cell_type": "markdown",
   "id": "d839598c-2d17-42d1-a9ba-89883dcc6653",
   "metadata": {
    "tags": []
   },
   "source": [
    "### Spherical_to_Cartesian & Cartesian_to_Spherical"
   ]
  },
  {
   "cell_type": "code",
   "execution_count": 12,
   "id": "abfcdb2a-5855-4f32-a844-dd801e3ab605",
   "metadata": {
    "tags": []
   },
   "outputs": [
    {
     "name": "stdout",
     "output_type": "stream",
     "text": [
      "     Zonal wind L2E : 1078.2186574928692\n",
      "Meridional wind L2E : 0.0\n",
      " Vorticity wind L2E : 3.426105869703856e-6\n",
      "Divergence wind L2E : 0.0\n"
     ]
    }
   ],
   "source": [
    "Initial_Condition = \"None\"\n",
    "original, final, Cmesh = UnitTest_CoordTrans(IC = Initial_Condition, iter_max = 10)\n",
    "U_AE = abs.(final[1][:,:,:] - original[1][:,:,:])\n",
    "V_AE = abs.(final[2][:,:,:] - original[2][:,:,:])\n",
    "Vor_AE = abs.(final[3][:,:,:] - original[3][:,:,:])\n",
    "Div_AE = abs.(final[4][:,:,:] - original[4][:,:,:])\n",
    "println(\"     Zonal wind L2E : \", LA.norm(U_AE))\n",
    "println(\"Meridional wind L2E : \", LA.norm(V_AE))\n",
    "println(\" Vorticity wind L2E : \", LA.norm(Vor_AE))\n",
    "println(\"Divergence wind L2E : \", LA.norm(Div_AE))"
   ]
  },
  {
   "cell_type": "code",
   "execution_count": 17,
   "id": "ed17f30a-022c-4752-b1eb-faeddc54e599",
   "metadata": {
    "tags": []
   },
   "outputs": [
    {
     "data": {
      "image/png": "[encoded data removed]",
      "text/plain": [
       "PyPlot.Figure(PyObject <Figure size 640x480 with 1 Axes>)"
      ]
     },
     "metadata": {},
     "output_type": "display_data"
    },
    {
     "data": {
      "text/plain": [
       "PyObject <matplotlib.contour.QuadContourSet object at 0x7f786b229710>"
      ]
     },
     "execution_count": 17,
     "metadata": {},
     "output_type": "execute_result"
    }
   ],
   "source": [
    "PyPlot.contourf(original[1][:,:,1]', levels = 32, cmap = \"bwr\")"
   ]
  },
  {
   "cell_type": "code",
   "execution_count": 7,
   "id": "934c3364-d8fd-4825-b271-eeffb5cb3ea5",
   "metadata": {
    "tags": []
   },
   "outputs": [
    {
     "data": {
      "text/plain": [
       "30.504678203269464"
      ]
     },
     "execution_count": 7,
     "metadata": {},
     "output_type": "execute_result"
    }
   ],
   "source": [
    "maximum(U_AE)"
   ]
  },
  {
   "cell_type": "markdown",
   "id": "9c9654d0-8441-4572-9097-e1d4ee9bc587",
   "metadata": {
    "tags": []
   },
   "source": [
    "### UV_to_VorDiv & VorDiv_to_UV"
   ]
  },
  {
   "cell_type": "code",
   "execution_count": 8,
   "id": "3dcd0c9e-896e-4e51-8300-2a5835da58bf",
   "metadata": {
    "tags": []
   },
   "outputs": [
    {
     "name": "stdout",
     "output_type": "stream",
     "text": [
      "     Zonal wind L2E : 6653.094926643792\n",
      "Meridional wind L2E : 0.0\n"
     ]
    }
   ],
   "source": [
    "original, final, Cmesh = UnitTest_VelocityTrans(IC = Initial_Condition, iter_max = 10)\n",
    "U_AE = abs.(final[1][:,:,:] - original[1][:,:,:])\n",
    "V_AE = abs.(final[2][:,:,:] - original[2][:,:,:])\n",
    "println(\"     Zonal wind L2E : \", LA.norm(U_AE))\n",
    "println(\"Meridional wind L2E : \", LA.norm(V_AE))"
   ]
  },
  {
   "cell_type": "code",
   "execution_count": 9,
   "id": "2c58fda6-c84c-4b35-a1bd-f5cf58012ef2",
   "metadata": {
    "tags": []
   },
   "outputs": [
    {
     "data": {
      "image/png": "[encoded data removed]",
      "text/plain": [
       "PyPlot.Figure(PyObject <Figure size 640x480 with 1 Axes>)"
      ]
     },
     "metadata": {},
     "output_type": "display_data"
    },
    {
     "data": {
      "text/plain": [
       "PyObject <matplotlib.contour.QuadContourSet object at 0x7f786e7c0f90>"
      ]
     },
     "execution_count": 9,
     "metadata": {},
     "output_type": "execute_result"
    }
   ],
   "source": [
    "PyPlot.contourf(U_AE[:,:,1]', levels = LinRange(-1e-1,1e-1,32), cmap = \"bwr\")"
   ]
  },
  {
   "cell_type": "markdown",
   "id": "99dc72e1-57bb-4b40-85a2-53f71eb19a29",
   "metadata": {},
   "source": [
    "### Execution"
   ]
  },
  {
   "cell_type": "code",
   "execution_count": 10,
   "id": "7d03ffe4-8403-4e72-8198-0378bd12021a",
   "metadata": {
    "tags": []
   },
   "outputs": [],
   "source": [
    "#Shallow_Water_Main()"
   ]
  }
 ],
 "metadata": {
  "kernelspec": {
   "display_name": "Julia 1.9.3",
   "language": "julia",
   "name": "julia-1.9"
  },
  "language_info": {
   "file_extension": ".jl",
   "mimetype": "application/julia",
   "name": "julia",
   "version": "1.9.3"
  }
 },
 "nbformat": 4,
 "nbformat_minor": 5
}
