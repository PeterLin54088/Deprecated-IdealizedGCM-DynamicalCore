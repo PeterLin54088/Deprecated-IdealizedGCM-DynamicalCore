{
 "cells": [
  {
   "cell_type": "code",
   "execution_count": 1,
   "id": "3e948df2-fc31-481e-b503-1d075f1b6768",
   "metadata": {
    "tags": []
   },
   "outputs": [],
   "source": [
    "import numpy as np\n",
    "import shtns\n",
    "import matplotlib.pyplot as plt\n",
    " \n",
    "class Spharmt(object):\n",
    "    \"\"\"\n",
    "    wrapper class for commonly used spectral transform operations in\n",
    "    atmospheric models.  Provides an interface to shtns compatible\n",
    "    with pyspharm (pyspharm.googlecode.com).\n",
    "    \"\"\"\n",
    "    def __init__(self, nlons, nlats, ntrunc, rsphere, gridtype=\"gaussian\"):\n",
    "        \"\"\"initialize\n",
    "        nlons:  number of longitudes\n",
    "        nlats:  number of latitudes\"\"\"\n",
    "        self._shtns = shtns.sht(ntrunc, ntrunc, 1,\n",
    "                                shtns.sht_orthonormal+shtns.SHT_NO_CS_PHASE)\n",
    " \n",
    "        if gridtype == \"gaussian\":\n",
    "            # self._shtns.set_grid(nlats, nlons,\n",
    "            #         shtns.sht_gauss_fly | shtns.SHT_PHI_CONTIGUOUS, 1.e-10)\n",
    "            self._shtns.set_grid(nlats, nlons,\n",
    "                    shtns.sht_quick_init | shtns.SHT_PHI_CONTIGUOUS, 1.e-10)\n",
    "        elif gridtype == \"regular\":\n",
    "            self._shtns.set_grid(nlats, nlons,\n",
    "                    shtns.sht_reg_dct | shtns.SHT_PHI_CONTIGUOUS, 1.e-10)\n",
    " \n",
    "        self.lats = np.arcsin(self._shtns.cos_theta)\n",
    "        self.lons = (2.*np.pi/nlons)*np.arange(nlons)\n",
    "        self.nlons = nlons\n",
    "        self.nlats = nlats\n",
    "        self.ntrunc = ntrunc\n",
    "        self.nlm = self._shtns.nlm\n",
    "        self.degree = self._shtns.l\n",
    "        self.lap = -self.degree*(self.degree+1.0).astype(complex)\n",
    "        self.invlap = np.zeros(self.lap.shape, self.lap.dtype)\n",
    "        self.invlap[1:] = 1./self.lap[1:]\n",
    "        self.rsphere = rsphere\n",
    "        self.lap = self.lap/rsphere**2\n",
    "        self.invlap = self.invlap*rsphere**2\n",
    " \n",
    "    def grdtospec(self, data):\n",
    "        \"\"\"compute spectral coefficients from gridded data\"\"\"\n",
    "        return self._shtns.analys(data)\n",
    " \n",
    "    def spectogrd(self, dataspec):\n",
    "        \"\"\"compute gridded data from spectral coefficients\"\"\"\n",
    "        return self._shtns.synth(dataspec)\n",
    " \n",
    "    def getuv(self, vrtspec, divspec):\n",
    "        \"\"\"compute wind vector from spectral coeffs of vorticity and divergence\"\"\"\n",
    "        return self._shtns.synth((self.invlap/self.rsphere)*vrtspec, (self.invlap/self.rsphere)*divspec)\n",
    " \n",
    "    def getvrtdivspec(self, u, v):\n",
    "        \"\"\"compute spectral coeffs of vorticity and divergence from wind vector\"\"\"\n",
    "        vrtspec, divspec = self._shtns.analys(u, v)\n",
    "        return self.lap*self.rsphere*vrtspec, self.lap*rsphere*divspec\n",
    " \n",
    "    def getgrad(self, divspec):\n",
    "        \"\"\"compute gradient vector from spectral coeffs\"\"\"\n",
    "        vrtspec = np.zeros(divspec.shape, dtype=complex)\n",
    "        u, v = self._shtns.synth(vrtspec, divspec)\n",
    "        return u/rsphere, v/rsphere"
   ]
  },
  {
   "cell_type": "code",
   "execution_count": 2,
   "id": "a459bb6a-b3b4-4fa5-9a64-593fe8a6592e",
   "metadata": {},
   "outputs": [],
   "source": [
    "# grid, time step info\n",
    "nlons = 512                 # number of longitudes\n",
    "ntrunc = int(nlons/3)       # spectral truncation (for alias-free computations)\n",
    "nlats = int(nlons/2)        # for gaussian grid.\n",
    "dt = 150                    # time step in seconds\n",
    "itmax = 6*int(86400/dt)     # integration length in days\n",
    "\n",
    "# parameters for test\n",
    "rsphere = 6.37122e6         # earth radius\n",
    "omega = 7.292e-5            # rotation rate\n",
    "grav = 9.80616              # gravity\n",
    "hbar = 10.e3                # resting depth\n",
    "umax = 80.                  # jet speed\n",
    "phi0 = np.pi/7.\n",
    "phi1 = 0.5*np.pi - phi0\n",
    "phi2 = 0.25*np.pi\n",
    "en = np.exp(-4.0/(phi1-phi0)**2)\n",
    "alpha = 1./3.\n",
    "beta = 1./15.\n",
    "hamp = 120.                 # amplitude of height perturbation to zonal jet\n",
    "efold = 3.*3600.            # efolding timescale at ntrunc for hyperdiffusion\n",
    "ndiss = 8                   # order for hyperdiffusion\n",
    "\n",
    "# setup up spherical harmonic instance, set lats/lons of grid\n",
    "x = Spharmt(nlons, nlats, ntrunc, rsphere, gridtype=\"gaussian\")\n",
    "lons, lats = np.meshgrid(x.lons, x.lats)\n",
    "f = 2.*omega*np.sin(lats)   # coriolis"
   ]
  },
  {
   "cell_type": "code",
   "execution_count": 3,
   "id": "2d6fc835-4d04-46a7-8ebd-c371d45a2725",
   "metadata": {
    "tags": []
   },
   "outputs": [],
   "source": [
    "ug = 10.0 + np.zeros((nlats, nlons), float)\n",
    "vg = np.zeros((nlats, nlons), float)\n",
    "uspec = x.grdtospec(ug)\n",
    "vspec = x.grdtospec(vg)"
   ]
  },
  {
   "cell_type": "code",
   "execution_count": 4,
   "id": "0a1dd661-df13-4e01-a0bc-e1f899d0f4f0",
   "metadata": {
    "tags": []
   },
   "outputs": [
    {
     "data": {
      "text/plain": [
       "<matplotlib.contour.QuadContourSet at 0x7f9dc0f9e610>"
      ]
     },
     "execution_count": 4,
     "metadata": {},
     "output_type": "execute_result"
    },
    {
     "data": {
      "image/png": "[encoded data removed]",
      "text/plain": [
       "<Figure size 640x480 with 1 Axes>"
      ]
     },
     "metadata": {},
     "output_type": "display_data"
    }
   ],
   "source": [
    "plt.contourf(lons, lats, ug, levels = 32, cmap = \"bwr\")"
   ]
  },
  {
   "cell_type": "code",
   "execution_count": 5,
   "id": "0a4dc064-ffcc-4ad4-b177-9d8d8b1bd272",
   "metadata": {
    "tags": []
   },
   "outputs": [],
   "source": [
    "vrtg_tmp, divg_tmp = x.getvrtdivspec(ug, vg)\n",
    "vrtg_tmp = x.spectogrd(vrtg_tmp)\n"
   ]
  },
  {
   "cell_type": "code",
   "execution_count": 6,
   "id": "e4702219-104a-4477-9810-b6029c02e7a0",
   "metadata": {
    "tags": []
   },
   "outputs": [
    {
     "data": {
      "text/plain": [
       "<matplotlib.contour.QuadContourSet at 0x7f9dc0ffb810>"
      ]
     },
     "execution_count": 6,
     "metadata": {},
     "output_type": "execute_result"
    },
    {
     "data": {
      "image/png": "[encoded data removed]",
      "text/plain": [
       "<Figure size 640x480 with 1 Axes>"
      ]
     },
     "metadata": {},
     "output_type": "display_data"
    }
   ],
   "source": [
    "plt.contourf(lons, lats, vrtg_tmp, levels = 32, cmap = \"bwr\")"
   ]
  },
  {
   "cell_type": "code",
   "execution_count": 7,
   "id": "47815cf4-f051-4860-8863-864e738a9e8b",
   "metadata": {
    "tags": []
   },
   "outputs": [
    {
     "data": {
      "text/plain": [
       "0.00021863900129364593"
      ]
     },
     "execution_count": 7,
     "metadata": {},
     "output_type": "execute_result"
    }
   ],
   "source": [
    "np.max(np.abs(vrtg_tmp))"
   ]
  },
  {
   "cell_type": "code",
   "execution_count": null,
   "id": "263b327e-5b64-4c3b-8b53-b9473e36e927",
   "metadata": {},
   "outputs": [],
   "source": []
  }
 ],
 "metadata": {
  "kernelspec": {
   "display_name": "default_kernel",
   "language": "python",
   "name": "default_kernel"
  },
  "language_info": {
   "codemirror_mode": {
    "name": "ipython",
    "version": 3
   },
   "file_extension": ".py",
   "mimetype": "text/x-python",
   "name": "python",
   "nbconvert_exporter": "python",
   "pygments_lexer": "ipython3",
   "version": "3.11.5"
  }
 },
 "nbformat": 4,
 "nbformat_minor": 5
}
